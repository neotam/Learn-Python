{
 "cells": [
  {
   "cell_type": "markdown",
   "id": "59199d23",
   "metadata": {},
   "source": [
    "# File Handling in Python"
   ]
  },
  {
   "cell_type": "markdown",
   "id": "705fa9f8",
   "metadata": {},
   "source": [
    "Two Types of files: \n",
    "\n",
    "    -Text\n",
    "    -Binary\n",
    "    "
   ]
  },
  {
   "cell_type": "markdown",
   "id": "4b3be9d4",
   "metadata": {},
   "source": [
    "How to open a file in python ?\n"
   ]
  },
  {
   "cell_type": "markdown",
   "id": "20b3fe12",
   "metadata": {},
   "source": [
    "> **open** built in function is used to open files in different modes that is to either read or write or for both "
   ]
  },
  {
   "cell_type": "markdown",
   "id": "20ecc578",
   "metadata": {},
   "source": [
    "open(file, mode='r', buffering=- 1, encoding=None, errors=None, newline=None, closefd=True, opener=None) -> fileobject"
   ]
  },
  {
   "cell_type": "markdown",
   "id": "528cd4c4",
   "metadata": {},
   "source": [
    "Modes of operation :\n",
    "    t -> text, b -> binary \n",
    "    \n",
    "    r, a, w, x, +\n",
    "   \n",
    "  Default Mode: r  ~ rt \n",
    "\n",
    "    r -> reading, raises error if file doesn't exist \n",
    "    w -> writing, if file exists, replaces content or truncates (always from begining) \n",
    "    x -> Open file exclusively for creation, it will fail if file exists \n",
    "    a -> opened for writing, content is appened at the end \n",
    "    + -> open file for both reading & writing \n",
    "    \n",
    "\n",
    "    \n",
    "    w+ -> open file for both writing & reading \n",
    "    w+b -> same as w+ but in binary mode \n",
    "    r+ -> open file for both reading & writing \n",
    "    r+b -> same as r+ but in binary mode \n",
    "    \n",
    "    \n",
    "    \n",
    "    "
   ]
  },
  {
   "cell_type": "markdown",
   "id": "d6cb6306",
   "metadata": {},
   "source": [
    "# File Operations\n"
   ]
  },
  {
   "cell_type": "markdown",
   "id": "22471972",
   "metadata": {},
   "source": [
    "- file path can be either absolute or realtive \n",
    "- if relative we can specify the file path with respect or relative to current working dir\n",
    "- Absolute path should be specified fromt he root directory\n",
    "- Absolute path Ex: /opt/workshapce/files/ex/myimage.jpg\n",
    "- Assume current working directory is files,  ex/myimage.jpb \n",
    "\n",
    "open(file, mode='r', buffering=- 1, \n",
    "     encoding=None, errors=None, newline=None, closefd=True, opener=None) -> fileobject"
   ]
  },
  {
   "cell_type": "code",
   "execution_count": 2,
   "id": "c9b98b35",
   "metadata": {},
   "outputs": [
    {
     "ename": "FileNotFoundError",
     "evalue": "[Errno 2] No such file or directory: 'wonder_woman.txt'",
     "output_type": "error",
     "traceback": [
      "\u001b[0;31m---------------------------------------------------------------------------\u001b[0m",
      "\u001b[0;31mFileNotFoundError\u001b[0m                         Traceback (most recent call last)",
      "\u001b[0;32m/var/folders/j4/7jydpp_s57z_09ypjcdmbqj40000gn/T/ipykernel_56328/970813980.py\u001b[0m in \u001b[0;36m<module>\u001b[0;34m\u001b[0m\n\u001b[0;32m----> 1\u001b[0;31m \u001b[0mf\u001b[0m \u001b[0;34m=\u001b[0m \u001b[0mopen\u001b[0m\u001b[0;34m(\u001b[0m\u001b[0;34m\"wonder_woman.txt\"\u001b[0m\u001b[0;34m)\u001b[0m\u001b[0;34m\u001b[0m\u001b[0;34m\u001b[0m\u001b[0m\n\u001b[0m",
      "\u001b[0;31mFileNotFoundError\u001b[0m: [Errno 2] No such file or directory: 'wonder_woman.txt'"
     ]
    }
   ],
   "source": [
    "f = open(\"wonder_woman.txt\")"
   ]
  },
  {
   "cell_type": "code",
   "execution_count": 9,
   "id": "99153ec7",
   "metadata": {},
   "outputs": [
    {
     "name": "stdout",
     "output_type": "stream",
     "text": [
      "Current Working Directory /Volumes/workspace/Tutor/Python/notebooks/files\n",
      "File IO in Python.ipynb\n",
      "superman.jpeg\n",
      "Absolute path of superman.jpeg: /Volumes/workspace/Tutor/Python/notebooks/files/superman.jpeg\n"
     ]
    }
   ],
   "source": [
    "import os \n",
    "import os.path as path\n",
    "\n",
    "print(\"Current Working Directory {}\".format(os.getcwd()))\n",
    "os.system(\"ls\")\n",
    "\n",
    "print(\"Absolute path of superman.jpeg: {}\".format(path.abspath('superman.jpeg')))"
   ]
  },
  {
   "cell_type": "code",
   "execution_count": 11,
   "id": "322d209e",
   "metadata": {},
   "outputs": [],
   "source": [
    "f = open(\"wonder_woman.txt\", 'w')"
   ]
  },
  {
   "cell_type": "code",
   "execution_count": 13,
   "id": "802cb49c",
   "metadata": {},
   "outputs": [
    {
     "data": {
      "text/plain": [
       "_io.TextIOWrapper"
      ]
     },
     "execution_count": 13,
     "metadata": {},
     "output_type": "execute_result"
    }
   ],
   "source": [
    "f.__class__"
   ]
  },
  {
   "cell_type": "markdown",
   "id": "35705a4f",
   "metadata": {},
   "source": [
    "# methods of file "
   ]
  },
  {
   "cell_type": "code",
   "execution_count": 16,
   "id": "50a6957c",
   "metadata": {},
   "outputs": [
    {
     "name": "stdout",
     "output_type": "stream",
     "text": [
      "buffer\n",
      "close\n",
      "closed\n",
      "detach\n",
      "encoding\n",
      "errors\n",
      "fileno\n",
      "flush\n",
      "isatty\n",
      "line_buffering\n",
      "mode\n",
      "name\n",
      "newlines\n",
      "read\n",
      "readable\n",
      "readline\n",
      "readlines\n",
      "reconfigure\n",
      "seek\n",
      "seekable\n",
      "tell\n",
      "truncate\n",
      "writable\n",
      "write\n",
      "write_through\n",
      "writelines\n"
     ]
    }
   ],
   "source": [
    "for i in dir(f): \n",
    "    if i.startswith('_'):\n",
    "        continue \n",
    "    print(i)"
   ]
  },
  {
   "cell_type": "code",
   "execution_count": 19,
   "id": "e9ac3547",
   "metadata": {},
   "outputs": [
    {
     "data": {
      "text/plain": [
       "0"
      ]
     },
     "execution_count": 19,
     "metadata": {},
     "output_type": "execute_result"
    }
   ],
   "source": [
    "f.tell()\n"
   ]
  },
  {
   "cell_type": "code",
   "execution_count": 20,
   "id": "f664953e",
   "metadata": {},
   "outputs": [],
   "source": [
    "text = 'hello! welcome to python'"
   ]
  },
  {
   "cell_type": "code",
   "execution_count": 25,
   "id": "c438835f",
   "metadata": {},
   "outputs": [
    {
     "data": {
      "text/plain": [
       "24"
      ]
     },
     "execution_count": 25,
     "metadata": {},
     "output_type": "execute_result"
    }
   ],
   "source": [
    "f.write(text)"
   ]
  },
  {
   "cell_type": "code",
   "execution_count": 27,
   "id": "a44c3d25",
   "metadata": {},
   "outputs": [],
   "source": [
    "# it will force bits to be written on to the disk \n",
    "f.flush()\n"
   ]
  },
  {
   "cell_type": "code",
   "execution_count": 28,
   "id": "ca03be12",
   "metadata": {},
   "outputs": [
    {
     "data": {
      "text/plain": [
       "24"
      ]
     },
     "execution_count": 28,
     "metadata": {},
     "output_type": "execute_result"
    }
   ],
   "source": [
    "# Find out current file position \n",
    "f.tell()"
   ]
  },
  {
   "cell_type": "code",
   "execution_count": 30,
   "id": "33260564",
   "metadata": {},
   "outputs": [
    {
     "data": {
      "text/plain": [
       "23"
      ]
     },
     "execution_count": 30,
     "metadata": {},
     "output_type": "execute_result"
    }
   ],
   "source": [
    "f.write(\"\\n\")\n",
    "f.write(\"Wonder woman is DC character \\n\")\n",
    "f.write(\"She is from amazon race\")"
   ]
  },
  {
   "cell_type": "code",
   "execution_count": 44,
   "id": "0c64c5ef",
   "metadata": {},
   "outputs": [
    {
     "data": {
      "text/plain": [
       "79"
      ]
     },
     "execution_count": 44,
     "metadata": {},
     "output_type": "execute_result"
    }
   ],
   "source": [
    "24 + 23 + 30 + 2"
   ]
  },
  {
   "cell_type": "code",
   "execution_count": 36,
   "id": "a1954f54",
   "metadata": {},
   "outputs": [
    {
     "data": {
      "text/plain": [
       "os.stat_result(st_mode=33188, st_ino=2881397, st_dev=16777242, st_nlink=1, st_uid=501, st_gid=503, st_size=24, st_atime=1678268348, st_mtime=1678268320, st_ctime=1678268320)"
      ]
     },
     "execution_count": 36,
     "metadata": {},
     "output_type": "execute_result"
    }
   ],
   "source": [
    "os.stat(f.name)"
   ]
  },
  {
   "cell_type": "code",
   "execution_count": 38,
   "id": "a93f78a0",
   "metadata": {},
   "outputs": [],
   "source": [
    "# close the file \n",
    "f.close() "
   ]
  },
  {
   "cell_type": "code",
   "execution_count": 41,
   "id": "91f2ce56",
   "metadata": {},
   "outputs": [
    {
     "ename": "ValueError",
     "evalue": "I/O operation on closed file.",
     "output_type": "error",
     "traceback": [
      "\u001b[0;31m---------------------------------------------------------------------------\u001b[0m",
      "\u001b[0;31mValueError\u001b[0m                                Traceback (most recent call last)",
      "\u001b[0;32m/var/folders/j4/7jydpp_s57z_09ypjcdmbqj40000gn/T/ipykernel_56328/1721218302.py\u001b[0m in \u001b[0;36m<module>\u001b[0;34m\u001b[0m\n\u001b[1;32m      1\u001b[0m \u001b[0;31m# if you close the file you can't read or write\u001b[0m\u001b[0;34m\u001b[0m\u001b[0;34m\u001b[0m\u001b[0m\n\u001b[0;32m----> 2\u001b[0;31m \u001b[0mf\u001b[0m\u001b[0;34m.\u001b[0m\u001b[0mwrite\u001b[0m\u001b[0;34m(\u001b[0m\u001b[0;34m'Test writing'\u001b[0m\u001b[0;34m)\u001b[0m\u001b[0;34m\u001b[0m\u001b[0;34m\u001b[0m\u001b[0m\n\u001b[0m",
      "\u001b[0;31mValueError\u001b[0m: I/O operation on closed file."
     ]
    }
   ],
   "source": [
    "# if you close the file you can't read or write\n",
    "f.write('Test writing')"
   ]
  },
  {
   "cell_type": "code",
   "execution_count": 42,
   "id": "5964eea7",
   "metadata": {},
   "outputs": [
    {
     "data": {
      "text/plain": [
       "os.stat_result(st_mode=33188, st_ino=2881397, st_dev=16777242, st_nlink=1, st_uid=501, st_gid=503, st_size=79, st_atime=1678268704, st_mtime=1678268685, st_ctime=1678268685)"
      ]
     },
     "execution_count": 42,
     "metadata": {},
     "output_type": "execute_result"
    }
   ],
   "source": [
    "os.stat(f.name)"
   ]
  },
  {
   "cell_type": "code",
   "execution_count": 49,
   "id": "6ba409e4",
   "metadata": {},
   "outputs": [],
   "source": [
    "fr = open('wonder_woman.txt', 'rt')"
   ]
  },
  {
   "cell_type": "code",
   "execution_count": 50,
   "id": "0a94773f",
   "metadata": {},
   "outputs": [
    {
     "name": "stdout",
     "output_type": "stream",
     "text": [
      "hello! welcome to python\n",
      "\n",
      "Wonder woman is DC character \n",
      "She is from amazon race\n"
     ]
    }
   ],
   "source": [
    "m = fr.read()\n",
    "print(m)"
   ]
  },
  {
   "cell_type": "code",
   "execution_count": null,
   "id": "2a422e85",
   "metadata": {},
   "outputs": [],
   "source": []
  },
  {
   "cell_type": "code",
   "execution_count": null,
   "id": "2a89e94f",
   "metadata": {},
   "outputs": [],
   "source": []
  }
 ],
 "metadata": {
  "kernelspec": {
   "display_name": "Python 3 (ipykernel)",
   "language": "python",
   "name": "python3"
  },
  "language_info": {
   "codemirror_mode": {
    "name": "ipython",
    "version": 3
   },
   "file_extension": ".py",
   "mimetype": "text/x-python",
   "name": "python",
   "nbconvert_exporter": "python",
   "pygments_lexer": "ipython3",
   "version": "3.9.13"
  }
 },
 "nbformat": 4,
 "nbformat_minor": 5
}
