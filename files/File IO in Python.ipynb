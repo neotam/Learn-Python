{
 "cells": [
  {
   "cell_type": "markdown",
   "id": "59199d23",
   "metadata": {},
   "source": [
    "# File Handling in Python"
   ]
  },
  {
   "cell_type": "markdown",
   "id": "705fa9f8",
   "metadata": {},
   "source": [
    "Two Types of files: \n",
    "\n",
    "    -Text\n",
    "    -Binary\n",
    "    "
   ]
  },
  {
   "cell_type": "markdown",
   "id": "4b3be9d4",
   "metadata": {},
   "source": [
    "How to open a file in python ?\n"
   ]
  },
  {
   "cell_type": "markdown",
   "id": "ee20203a",
   "metadata": {},
   "source": [
    "> **open** built in function is used to open files in different modes that is to either read or write or for both "
   ]
  },
  {
   "cell_type": "markdown",
   "id": "6cb495b9",
   "metadata": {},
   "source": [
    "open(file, mode='r', buffering=- 1, encoding=None, errors=None, newline=None, closefd=True, opener=None) -> fileobject"
   ]
  },
  {
   "cell_type": "markdown",
   "id": "277c89d1",
   "metadata": {},
   "source": [
    "Modes of operation :\n",
    "    t -> text, b -> binary \n",
    "    \n",
    "    r, a, w, x, +\n",
    "   \n",
    "  Default Mode: r  ~ rt \n",
    "\n",
    "    r -> reading, raises error if file doesn't exist \n",
    "    w -> writing, if file exists, replaces content or truncates (always from begining) \n",
    "    x -> Open file exclusively for creation, it will fail if file exists \n",
    "    a -> opened for writing, content is appened at the end \n",
    "    + -> open file for both reading & writing \n",
    "    \n",
    "\n",
    "    \n",
    "    w+ -> open file for both writing & reading \n",
    "    w+b -> same as w+ but in binary mode \n",
    "    r+ -> open file for both reading & writing \n",
    "    r+b -> same as r+ but in binary mode \n",
    "    \n",
    "    \n",
    "    \n",
    "    "
   ]
  },
  {
   "cell_type": "markdown",
   "id": "038fe433",
   "metadata": {},
   "source": [
    "# File Operations\n"
   ]
  },
  {
   "cell_type": "markdown",
   "id": "9ef8ea4a",
   "metadata": {},
   "source": [
    "- file path can be either absolute or realtive \n",
    "- if relative we can specify the file path with respect or relative to current working dir\n",
    "- Absolute path should be specified fromt he root directory\n",
    "- Absolute path Ex: /opt/workshapce/files/ex/myimage.jpg\n",
    "- Assume current working directory is files,  ex/myimage.jpb \n",
    "\n",
    "open(file, mode='r', buffering=- 1, \n",
    "     encoding=None, errors=None, newline=None, closefd=True, opener=None) -> fileobject"
   ]
  },
  {
   "cell_type": "code",
   "execution_count": 153,
   "id": "86c037ea",
   "metadata": {},
   "outputs": [],
   "source": [
    "f = open(\"wonder_woman.txt\")"
   ]
  },
  {
   "cell_type": "code",
   "execution_count": 154,
   "id": "f62d465a",
   "metadata": {},
   "outputs": [
    {
     "name": "stdout",
     "output_type": "stream",
     "text": [
      "Current Working Directory /Volumes/workspace/Tutor/Python/notebooks/files\n",
      "File IO in Python.ipynb\n",
      "superman.jpeg\n",
      "wonder_woman.txt\n",
      "Absolute path of superman.jpeg: /Volumes/workspace/Tutor/Python/notebooks/files/superman.jpeg\n"
     ]
    }
   ],
   "source": [
    "import os \n",
    "import os.path as path\n",
    "\n",
    "print(\"Current Working Directory {}\".format(os.getcwd()))\n",
    "os.system(\"ls\")\n",
    "\n",
    "print(\"Absolute path of superman.jpeg: {}\".format(path.abspath('superman.jpeg')))"
   ]
  },
  {
   "cell_type": "code",
   "execution_count": 155,
   "id": "fb6e8e97",
   "metadata": {},
   "outputs": [],
   "source": [
    "f = open(\"wonder_woman.txt\", 'w')"
   ]
  },
  {
   "cell_type": "code",
   "execution_count": 156,
   "id": "a2b1819e",
   "metadata": {},
   "outputs": [
    {
     "data": {
      "text/plain": [
       "_io.TextIOWrapper"
      ]
     },
     "execution_count": 156,
     "metadata": {},
     "output_type": "execute_result"
    }
   ],
   "source": [
    "f.__class__"
   ]
  },
  {
   "cell_type": "markdown",
   "id": "d5dab78f",
   "metadata": {},
   "source": [
    "# methods of file "
   ]
  },
  {
   "cell_type": "code",
   "execution_count": 157,
   "id": "f480a685",
   "metadata": {},
   "outputs": [
    {
     "name": "stdout",
     "output_type": "stream",
     "text": [
      "buffer\n",
      "close\n",
      "closed\n",
      "detach\n",
      "encoding\n",
      "errors\n",
      "fileno\n",
      "flush\n",
      "isatty\n",
      "line_buffering\n",
      "mode\n",
      "name\n",
      "newlines\n",
      "read\n",
      "readable\n",
      "readline\n",
      "readlines\n",
      "reconfigure\n",
      "seek\n",
      "seekable\n",
      "tell\n",
      "truncate\n",
      "writable\n",
      "write\n",
      "write_through\n",
      "writelines\n"
     ]
    }
   ],
   "source": [
    "for i in dir(f): \n",
    "    if i.startswith('_'):\n",
    "        continue \n",
    "    print(i)"
   ]
  },
  {
   "cell_type": "code",
   "execution_count": 158,
   "id": "dc937b43",
   "metadata": {},
   "outputs": [
    {
     "data": {
      "text/plain": [
       "0"
      ]
     },
     "execution_count": 158,
     "metadata": {},
     "output_type": "execute_result"
    }
   ],
   "source": [
    "f.tell()\n"
   ]
  },
  {
   "cell_type": "code",
   "execution_count": 159,
   "id": "f0aab7f6",
   "metadata": {},
   "outputs": [],
   "source": [
    "text = 'hello! welcome to python'"
   ]
  },
  {
   "cell_type": "code",
   "execution_count": 160,
   "id": "4dce961d",
   "metadata": {},
   "outputs": [
    {
     "data": {
      "text/plain": [
       "24"
      ]
     },
     "execution_count": 160,
     "metadata": {},
     "output_type": "execute_result"
    }
   ],
   "source": [
    "f.write(text)"
   ]
  },
  {
   "cell_type": "code",
   "execution_count": 161,
   "id": "49fdd19b",
   "metadata": {},
   "outputs": [],
   "source": [
    "# it will force bits to be written on to the disk \n",
    "f.flush()\n"
   ]
  },
  {
   "cell_type": "code",
   "execution_count": 163,
   "id": "bdf961f8",
   "metadata": {},
   "outputs": [
    {
     "data": {
      "text/plain": [
       "24"
      ]
     },
     "execution_count": 163,
     "metadata": {},
     "output_type": "execute_result"
    }
   ],
   "source": [
    "# Find out current file position \n",
    "f.tell()"
   ]
  },
  {
   "cell_type": "code",
   "execution_count": 164,
   "id": "976ef293",
   "metadata": {},
   "outputs": [
    {
     "data": {
      "text/plain": [
       "23"
      ]
     },
     "execution_count": 164,
     "metadata": {},
     "output_type": "execute_result"
    }
   ],
   "source": [
    "f.write(\"\\n\")\n",
    "f.write(\"Wonder woman is DC character \\n\")\n",
    "f.write(\"She is from amazon race\")"
   ]
  },
  {
   "cell_type": "code",
   "execution_count": 165,
   "id": "c0f1028b",
   "metadata": {},
   "outputs": [
    {
     "data": {
      "text/plain": [
       "79"
      ]
     },
     "execution_count": 165,
     "metadata": {},
     "output_type": "execute_result"
    }
   ],
   "source": [
    "24 + 23 + 30 + 2"
   ]
  },
  {
   "cell_type": "code",
   "execution_count": 166,
   "id": "a9e47d91",
   "metadata": {},
   "outputs": [
    {
     "data": {
      "text/plain": [
       "os.stat_result(st_mode=33188, st_ino=2881397, st_dev=16777242, st_nlink=1, st_uid=501, st_gid=503, st_size=24, st_atime=1678353788, st_mtime=1678353784, st_ctime=1678353784)"
      ]
     },
     "execution_count": 166,
     "metadata": {},
     "output_type": "execute_result"
    }
   ],
   "source": [
    "os.stat(f.name)"
   ]
  },
  {
   "cell_type": "code",
   "execution_count": 167,
   "id": "b504a3d3",
   "metadata": {},
   "outputs": [],
   "source": [
    "# close the file \n",
    "f.close() "
   ]
  },
  {
   "cell_type": "code",
   "execution_count": 117,
   "id": "f44260ec",
   "metadata": {},
   "outputs": [
    {
     "ename": "ValueError",
     "evalue": "I/O operation on closed file.",
     "output_type": "error",
     "traceback": [
      "\u001b[0;31m---------------------------------------------------------------------------\u001b[0m",
      "\u001b[0;31mValueError\u001b[0m                                Traceback (most recent call last)",
      "\u001b[0;32m/var/folders/j4/7jydpp_s57z_09ypjcdmbqj40000gn/T/ipykernel_56328/1721218302.py\u001b[0m in \u001b[0;36m<module>\u001b[0;34m\u001b[0m\n\u001b[1;32m      1\u001b[0m \u001b[0;31m# if you close the file you can't read or write\u001b[0m\u001b[0;34m\u001b[0m\u001b[0;34m\u001b[0m\u001b[0m\n\u001b[0;32m----> 2\u001b[0;31m \u001b[0mf\u001b[0m\u001b[0;34m.\u001b[0m\u001b[0mwrite\u001b[0m\u001b[0;34m(\u001b[0m\u001b[0;34m'Test writing'\u001b[0m\u001b[0;34m)\u001b[0m\u001b[0;34m\u001b[0m\u001b[0;34m\u001b[0m\u001b[0m\n\u001b[0m",
      "\u001b[0;31mValueError\u001b[0m: I/O operation on closed file."
     ]
    }
   ],
   "source": [
    "# if you close the file you can't read or write\n",
    "f.write('Test writing')"
   ]
  },
  {
   "cell_type": "code",
   "execution_count": 118,
   "id": "9c5bcb7b",
   "metadata": {},
   "outputs": [
    {
     "data": {
      "text/plain": [
       "os.stat_result(st_mode=33188, st_ino=2881397, st_dev=16777242, st_nlink=1, st_uid=501, st_gid=503, st_size=78, st_atime=1678352616, st_mtime=1678352678, st_ctime=1678352678)"
      ]
     },
     "execution_count": 118,
     "metadata": {},
     "output_type": "execute_result"
    }
   ],
   "source": [
    "os.stat(f.name)"
   ]
  },
  {
   "cell_type": "code",
   "execution_count": 119,
   "id": "244d3b65",
   "metadata": {},
   "outputs": [],
   "source": [
    "fr = open('wonder_woman.txt', 'rt')"
   ]
  },
  {
   "cell_type": "code",
   "execution_count": 120,
   "id": "1deb5440",
   "metadata": {},
   "outputs": [
    {
     "name": "stdout",
     "output_type": "stream",
     "text": [
      "hello! welcome to python\n",
      "Wonder woman is DC character \n",
      "She is from amazon race\n"
     ]
    }
   ],
   "source": [
    "m = fr.read()\n",
    "print(m)"
   ]
  },
  {
   "cell_type": "code",
   "execution_count": 121,
   "id": "934a96da",
   "metadata": {},
   "outputs": [
    {
     "data": {
      "text/plain": [
       "'rt'"
      ]
     },
     "execution_count": 121,
     "metadata": {},
     "output_type": "execute_result"
    }
   ],
   "source": [
    "fr.mode"
   ]
  },
  {
   "cell_type": "markdown",
   "id": "16155869",
   "metadata": {},
   "source": [
    "## Append Mode"
   ]
  },
  {
   "cell_type": "markdown",
   "id": "bad2da03",
   "metadata": {},
   "source": [
    "> a is Write model, but content is appended at the end of the file\n",
    "\n",
    "> For appaend mode regardless of file pointer position, content is appended "
   ]
  },
  {
   "cell_type": "code",
   "execution_count": 122,
   "id": "74cc41a9",
   "metadata": {},
   "outputs": [],
   "source": [
    "fa = open('wonder_woman.txt', 'a')"
   ]
  },
  {
   "cell_type": "code",
   "execution_count": 123,
   "id": "c0b1c599",
   "metadata": {},
   "outputs": [
    {
     "data": {
      "text/plain": [
       "78"
      ]
     },
     "execution_count": 123,
     "metadata": {},
     "output_type": "execute_result"
    }
   ],
   "source": [
    "fa.tell()"
   ]
  },
  {
   "cell_type": "code",
   "execution_count": 124,
   "id": "3fc71655",
   "metadata": {},
   "outputs": [],
   "source": [
    "fa.writelines(['\\n', 'She is powerful \\n', 'She is only of her kind'])"
   ]
  },
  {
   "cell_type": "code",
   "execution_count": 125,
   "id": "513661ce",
   "metadata": {},
   "outputs": [
    {
     "data": {
      "text/plain": [
       "119"
      ]
     },
     "execution_count": 125,
     "metadata": {},
     "output_type": "execute_result"
    }
   ],
   "source": [
    "# to get new file object position \n",
    "fa.tell()"
   ]
  },
  {
   "cell_type": "code",
   "execution_count": 126,
   "id": "2c49d13f",
   "metadata": {},
   "outputs": [
    {
     "data": {
      "text/plain": [
       "7"
      ]
     },
     "execution_count": 126,
     "metadata": {},
     "output_type": "execute_result"
    }
   ],
   "source": [
    "fa.seek(7)"
   ]
  },
  {
   "cell_type": "code",
   "execution_count": 127,
   "id": "82c0019a",
   "metadata": {},
   "outputs": [
    {
     "data": {
      "text/plain": [
       "7"
      ]
     },
     "execution_count": 127,
     "metadata": {},
     "output_type": "execute_result"
    }
   ],
   "source": [
    "fa.tell()"
   ]
  },
  {
   "cell_type": "code",
   "execution_count": 128,
   "id": "c06af691",
   "metadata": {},
   "outputs": [
    {
     "data": {
      "text/plain": [
       "12"
      ]
     },
     "execution_count": 128,
     "metadata": {},
     "output_type": "execute_result"
    }
   ],
   "source": [
    "fa.write(\"Wonder Woman\")"
   ]
  },
  {
   "cell_type": "code",
   "execution_count": 129,
   "id": "28f204e3",
   "metadata": {},
   "outputs": [],
   "source": [
    "fa.flush()"
   ]
  },
  {
   "cell_type": "code",
   "execution_count": 130,
   "id": "a64770db",
   "metadata": {},
   "outputs": [
    {
     "data": {
      "text/plain": [
       "131"
      ]
     },
     "execution_count": 130,
     "metadata": {},
     "output_type": "execute_result"
    }
   ],
   "source": [
    "fa.tell()\n"
   ]
  },
  {
   "cell_type": "code",
   "execution_count": 131,
   "id": "54a6ddb7",
   "metadata": {},
   "outputs": [
    {
     "data": {
      "text/plain": [
       "10"
      ]
     },
     "execution_count": 131,
     "metadata": {},
     "output_type": "execute_result"
    }
   ],
   "source": [
    "fa.seek(10)"
   ]
  },
  {
   "cell_type": "code",
   "execution_count": 132,
   "id": "a1209b3f",
   "metadata": {},
   "outputs": [],
   "source": [
    "fa.write('>>>>>>>>')\n",
    "fa.flush()"
   ]
  },
  {
   "cell_type": "code",
   "execution_count": 133,
   "id": "76cd101b",
   "metadata": {},
   "outputs": [
    {
     "data": {
      "text/plain": [
       "False"
      ]
     },
     "execution_count": 133,
     "metadata": {},
     "output_type": "execute_result"
    }
   ],
   "source": [
    "fa.readable()"
   ]
  },
  {
   "cell_type": "code",
   "execution_count": 134,
   "id": "12739ab8",
   "metadata": {},
   "outputs": [],
   "source": [
    "fa.close()"
   ]
  },
  {
   "cell_type": "markdown",
   "id": "671132b9",
   "metadata": {},
   "source": [
    "## A+ mode"
   ]
  },
  {
   "cell_type": "markdown",
   "id": "6860ba94",
   "metadata": {},
   "source": [
    "> File is opened for both reading & writing but content is added to the end of the file (or appended) \n",
    "\n",
    "> for read operation, file pointer also points to the end of the file by default \n",
    "\n",
    "> Either in mode **a or a+**, content is always appended. \n",
    "\n",
    "> when it comes to  **mode:a+** you can both read & write,  while **mode:a** is write only  but content is appended to the file "
   ]
  },
  {
   "cell_type": "code",
   "execution_count": 135,
   "id": "11c3d4a3",
   "metadata": {},
   "outputs": [],
   "source": [
    "fa_plus = open('wonder_woman.txt', 'a+')"
   ]
  },
  {
   "cell_type": "code",
   "execution_count": 136,
   "id": "8d93f831",
   "metadata": {},
   "outputs": [
    {
     "data": {
      "text/plain": [
       "'a+'"
      ]
     },
     "execution_count": 136,
     "metadata": {},
     "output_type": "execute_result"
    }
   ],
   "source": [
    "fa_plus.mode"
   ]
  },
  {
   "cell_type": "code",
   "execution_count": 140,
   "id": "6735eb9a",
   "metadata": {},
   "outputs": [
    {
     "name": "stdout",
     "output_type": "stream",
     "text": [
      "readable:  True wriable:  True\n"
     ]
    }
   ],
   "source": [
    "print(\"readable: \", fa_plus.readable(), \n",
    "\"wriable: \", fa_plus.writable())"
   ]
  },
  {
   "cell_type": "code",
   "execution_count": 142,
   "id": "140a9f04",
   "metadata": {},
   "outputs": [
    {
     "data": {
      "text/plain": [
       "139"
      ]
     },
     "execution_count": 142,
     "metadata": {},
     "output_type": "execute_result"
    }
   ],
   "source": [
    "fa_plus.tell()"
   ]
  },
  {
   "cell_type": "code",
   "execution_count": 143,
   "id": "1a654eae",
   "metadata": {},
   "outputs": [
    {
     "data": {
      "text/plain": [
       "''"
      ]
     },
     "execution_count": 143,
     "metadata": {},
     "output_type": "execute_result"
    }
   ],
   "source": [
    "fa_plus.read()"
   ]
  },
  {
   "cell_type": "code",
   "execution_count": 144,
   "id": "47b6c0c7",
   "metadata": {},
   "outputs": [],
   "source": [
    "fa_plus.writelines(['\\n', '#####'])"
   ]
  },
  {
   "cell_type": "code",
   "execution_count": 145,
   "id": "b611be8d",
   "metadata": {},
   "outputs": [],
   "source": [
    "fa_plus.flush()"
   ]
  },
  {
   "cell_type": "code",
   "execution_count": 146,
   "id": "a0d3472f",
   "metadata": {},
   "outputs": [
    {
     "data": {
      "text/plain": [
       "7"
      ]
     },
     "execution_count": 146,
     "metadata": {},
     "output_type": "execute_result"
    }
   ],
   "source": [
    "fa_plus.seek(7)"
   ]
  },
  {
   "cell_type": "code",
   "execution_count": 147,
   "id": "caec1c26",
   "metadata": {},
   "outputs": [
    {
     "data": {
      "text/plain": [
       "'welcome to python\\nWonder woman is DC character \\nShe is from amazon race\\nShe is powerful \\nShe is only of her kindWonder Woman>>>>>>>>\\n#####'"
      ]
     },
     "execution_count": 147,
     "metadata": {},
     "output_type": "execute_result"
    }
   ],
   "source": [
    "fa_plus.read()"
   ]
  },
  {
   "cell_type": "code",
   "execution_count": 148,
   "id": "83f21843",
   "metadata": {},
   "outputs": [
    {
     "data": {
      "text/plain": [
       "''"
      ]
     },
     "execution_count": 148,
     "metadata": {},
     "output_type": "execute_result"
    }
   ],
   "source": [
    "fa_plus.read()"
   ]
  },
  {
   "cell_type": "code",
   "execution_count": 149,
   "id": "c864b578",
   "metadata": {},
   "outputs": [
    {
     "data": {
      "text/plain": [
       "7"
      ]
     },
     "execution_count": 149,
     "metadata": {},
     "output_type": "execute_result"
    }
   ],
   "source": [
    "fa_plus.seek(7)"
   ]
  },
  {
   "cell_type": "code",
   "execution_count": 150,
   "id": "72b534b0",
   "metadata": {},
   "outputs": [
    {
     "data": {
      "text/plain": [
       "13"
      ]
     },
     "execution_count": 150,
     "metadata": {},
     "output_type": "execute_result"
    }
   ],
   "source": [
    "fa_plus.write(\"\\n Shazam !!! \")"
   ]
  },
  {
   "cell_type": "code",
   "execution_count": 151,
   "id": "3c3ebbdb",
   "metadata": {},
   "outputs": [],
   "source": [
    "fa_plus.flush()"
   ]
  },
  {
   "cell_type": "code",
   "execution_count": 152,
   "id": "4a3d2a3f",
   "metadata": {},
   "outputs": [
    {
     "data": {
      "text/plain": [
       "158"
      ]
     },
     "execution_count": 152,
     "metadata": {},
     "output_type": "execute_result"
    }
   ],
   "source": [
    "fa_plus.tell()"
   ]
  },
  {
   "cell_type": "markdown",
   "id": "8567e990",
   "metadata": {},
   "source": [
    "## Exlusive Mode"
   ]
  },
  {
   "cell_type": "code",
   "execution_count": 168,
   "id": "96176a83",
   "metadata": {},
   "outputs": [
    {
     "ename": "FileExistsError",
     "evalue": "[Errno 17] File exists: 'wonder_woman.txt'",
     "output_type": "error",
     "traceback": [
      "\u001b[0;31m---------------------------------------------------------------------------\u001b[0m",
      "\u001b[0;31mFileExistsError\u001b[0m                           Traceback (most recent call last)",
      "\u001b[0;32m/var/folders/j4/7jydpp_s57z_09ypjcdmbqj40000gn/T/ipykernel_56328/2138909698.py\u001b[0m in \u001b[0;36m<module>\u001b[0;34m\u001b[0m\n\u001b[0;32m----> 1\u001b[0;31m \u001b[0mfx\u001b[0m \u001b[0;34m=\u001b[0m \u001b[0mopen\u001b[0m\u001b[0;34m(\u001b[0m\u001b[0;34m\"wonder_woman.txt\"\u001b[0m\u001b[0;34m,\u001b[0m \u001b[0;34m\"x\"\u001b[0m\u001b[0;34m)\u001b[0m\u001b[0;34m\u001b[0m\u001b[0;34m\u001b[0m\u001b[0m\n\u001b[0m",
      "\u001b[0;31mFileExistsError\u001b[0m: [Errno 17] File exists: 'wonder_woman.txt'"
     ]
    }
   ],
   "source": [
    "fx = open(\"wonder_woman.txt\", \"x\")"
   ]
  },
  {
   "cell_type": "markdown",
   "id": "802b08d2",
   "metadata": {},
   "source": [
    "## Mode: r+"
   ]
  },
  {
   "cell_type": "code",
   "execution_count": 169,
   "id": "e2d018a9",
   "metadata": {},
   "outputs": [],
   "source": [
    "frp = open(\"wonder_woman.txt\", 'r+') "
   ]
  },
  {
   "cell_type": "code",
   "execution_count": 170,
   "id": "b3ed6a25",
   "metadata": {},
   "outputs": [
    {
     "name": "stdout",
     "output_type": "stream",
     "text": [
      "readable:  True wriable:  True\n"
     ]
    }
   ],
   "source": [
    "print(\"readable: \", fa_plus.readable(), \n",
    "\"wriable: \", fa_plus.writable())"
   ]
  },
  {
   "cell_type": "code",
   "execution_count": 171,
   "id": "d257e11d",
   "metadata": {},
   "outputs": [
    {
     "data": {
      "text/plain": [
       "0"
      ]
     },
     "execution_count": 171,
     "metadata": {},
     "output_type": "execute_result"
    }
   ],
   "source": [
    "frp.tell()"
   ]
  },
  {
   "cell_type": "code",
   "execution_count": 172,
   "id": "dcf29ca2",
   "metadata": {},
   "outputs": [],
   "source": [
    "frp.write(\"*&^**** \\n\")\n",
    "frp.flush() "
   ]
  },
  {
   "cell_type": "code",
   "execution_count": 173,
   "id": "a4e8e5c0",
   "metadata": {},
   "outputs": [
    {
     "data": {
      "text/plain": [
       "9"
      ]
     },
     "execution_count": 173,
     "metadata": {},
     "output_type": "execute_result"
    }
   ],
   "source": [
    "frp.tell()"
   ]
  },
  {
   "cell_type": "code",
   "execution_count": 174,
   "id": "8d6ef62c",
   "metadata": {},
   "outputs": [
    {
     "data": {
      "text/plain": [
       "120"
      ]
     },
     "execution_count": 174,
     "metadata": {},
     "output_type": "execute_result"
    }
   ],
   "source": [
    "frp.seek(120)"
   ]
  },
  {
   "cell_type": "code",
   "execution_count": 175,
   "id": "5a4a6c8b",
   "metadata": {},
   "outputs": [
    {
     "data": {
      "text/plain": [
       "''"
      ]
     },
     "execution_count": 175,
     "metadata": {},
     "output_type": "execute_result"
    }
   ],
   "source": [
    "frp.read()"
   ]
  },
  {
   "cell_type": "code",
   "execution_count": 176,
   "id": "97aef28c",
   "metadata": {},
   "outputs": [
    {
     "data": {
      "text/plain": [
       "120"
      ]
     },
     "execution_count": 176,
     "metadata": {},
     "output_type": "execute_result"
    }
   ],
   "source": [
    "frp.tell()"
   ]
  },
  {
   "cell_type": "code",
   "execution_count": 178,
   "id": "d9dafa23",
   "metadata": {},
   "outputs": [
    {
     "data": {
      "text/plain": [
       "0"
      ]
     },
     "execution_count": 178,
     "metadata": {},
     "output_type": "execute_result"
    }
   ],
   "source": [
    "frp.seek(0)"
   ]
  },
  {
   "cell_type": "code",
   "execution_count": 179,
   "id": "107ea3df",
   "metadata": {},
   "outputs": [
    {
     "data": {
      "text/plain": [
       "'*&^**** \\nlcome to python\\nWonder woman is DC character \\nShe is from amazon race'"
      ]
     },
     "execution_count": 179,
     "metadata": {},
     "output_type": "execute_result"
    }
   ],
   "source": [
    "frp.read()"
   ]
  },
  {
   "cell_type": "code",
   "execution_count": 180,
   "id": "5d37e516",
   "metadata": {},
   "outputs": [
    {
     "data": {
      "text/plain": [
       "''"
      ]
     },
     "execution_count": 180,
     "metadata": {},
     "output_type": "execute_result"
    }
   ],
   "source": [
    "frp.read()"
   ]
  },
  {
   "cell_type": "code",
   "execution_count": 181,
   "id": "0c2a7d58",
   "metadata": {},
   "outputs": [
    {
     "data": {
      "text/plain": [
       "35"
      ]
     },
     "execution_count": 181,
     "metadata": {},
     "output_type": "execute_result"
    }
   ],
   "source": [
    "frp.seek(35)"
   ]
  },
  {
   "cell_type": "code",
   "execution_count": 182,
   "id": "46e456f1",
   "metadata": {},
   "outputs": [
    {
     "data": {
      "text/plain": [
       "'an is DC character \\nShe is from amazon race'"
      ]
     },
     "execution_count": 182,
     "metadata": {},
     "output_type": "execute_result"
    }
   ],
   "source": [
    "frp.read()"
   ]
  },
  {
   "cell_type": "code",
   "execution_count": null,
   "id": "4dc752af",
   "metadata": {},
   "outputs": [],
   "source": []
  },
  {
   "cell_type": "code",
   "execution_count": null,
   "id": "77c4c598",
   "metadata": {},
   "outputs": [],
   "source": [
    "'r+b'"
   ]
  }
 ],
 "metadata": {
  "kernelspec": {
   "display_name": "Python 3 (ipykernel)",
   "language": "python",
   "name": "python3"
  },
  "language_info": {
   "codemirror_mode": {
    "name": "ipython",
    "version": 3
   },
   "file_extension": ".py",
   "mimetype": "text/x-python",
   "name": "python",
   "nbconvert_exporter": "python",
   "pygments_lexer": "ipython3",
   "version": "3.9.13"
  }
 },
 "nbformat": 4,
 "nbformat_minor": 5
}
